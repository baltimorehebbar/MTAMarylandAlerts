{
 "cells": [
  {
   "cell_type": "markdown",
   "metadata": {},
   "source": [
    "<img style=\"float: center;\" width=\"500\" src=\"https://forwardbaltimore.files.wordpress.com/2023/10/forward-baltimore.png?\">\n",
    "<br><br><br>"
   ]
  },
  {
   "cell_type": "markdown",
   "metadata": {},
   "source": [
    "Author: Sachin Hebbar\n",
    "Owner: Forward Baltimore\n",
    "Copyright: MIT License"
   ]
  },
  {
   "cell_type": "code",
   "execution_count": 1,
   "metadata": {},
   "outputs": [],
   "source": [
    "import os\n",
    "import pandas as pd\n",
    "import seaborn as sns\n",
    "import matplotlib.pyplot as plt\n",
    "import numpy as np\n",
    "pd.set_option('display.max_rows', 500)"
   ]
  },
  {
   "cell_type": "code",
   "execution_count": 9,
   "metadata": {},
   "outputs": [
    {
     "data": {
      "text/html": [
       "<div>\n",
       "<style scoped>\n",
       "    .dataframe tbody tr th:only-of-type {\n",
       "        vertical-align: middle;\n",
       "    }\n",
       "\n",
       "    .dataframe tbody tr th {\n",
       "        vertical-align: top;\n",
       "    }\n",
       "\n",
       "    .dataframe thead th {\n",
       "        text-align: right;\n",
       "    }\n",
       "</style>\n",
       "<table border=\"1\" class=\"dataframe\">\n",
       "  <thead>\n",
       "    <tr style=\"text-align: right;\">\n",
       "      <th></th>\n",
       "      <th>alert_datetime</th>\n",
       "      <th>service</th>\n",
       "      <th>comment</th>\n",
       "      <th>comment_title</th>\n",
       "    </tr>\n",
       "  </thead>\n",
       "  <tbody>\n",
       "    <tr>\n",
       "      <th>0</th>\n",
       "      <td>2023-10-28 21:00:00</td>\n",
       "      <td>LBUS</td>\n",
       "      <td>LocalLink Temporary Route Diversions Due to a ...</td>\n",
       "      <td>NaN</td>\n",
       "    </tr>\n",
       "    <tr>\n",
       "      <th>1</th>\n",
       "      <td>2023-10-28 20:39:00</td>\n",
       "      <td>MARC</td>\n",
       "      <td>MARC Penn 494 - Delay  Penn Line Train 494 (7:...</td>\n",
       "      <td>NaN</td>\n",
       "    </tr>\n",
       "    <tr>\n",
       "      <th>2</th>\n",
       "      <td>2023-10-28 19:57:00</td>\n",
       "      <td>MARC</td>\n",
       "      <td>MARC Penn 494 - Delay  Penn Line Train 494 (7:...</td>\n",
       "      <td>NaN</td>\n",
       "    </tr>\n",
       "    <tr>\n",
       "      <th>3</th>\n",
       "      <td>2023-10-28 17:54:00</td>\n",
       "      <td>MARC</td>\n",
       "      <td>MARC Penn 492 - Delay  Penn Line Train 492 (5:...</td>\n",
       "      <td>NaN</td>\n",
       "    </tr>\n",
       "    <tr>\n",
       "      <th>4</th>\n",
       "      <td>2023-10-28 16:54:00</td>\n",
       "      <td>MARC</td>\n",
       "      <td>MARC Penn 490 - Delay  Penn Line Train 490 (4:...</td>\n",
       "      <td>NaN</td>\n",
       "    </tr>\n",
       "  </tbody>\n",
       "</table>\n",
       "</div>"
      ],
      "text/plain": [
       "        alert_datetime service  \\\n",
       "0  2023-10-28 21:00:00    LBUS   \n",
       "1  2023-10-28 20:39:00    MARC   \n",
       "2  2023-10-28 19:57:00    MARC   \n",
       "3  2023-10-28 17:54:00    MARC   \n",
       "4  2023-10-28 16:54:00    MARC   \n",
       "\n",
       "                                             comment comment_title  \n",
       "0  LocalLink Temporary Route Diversions Due to a ...           NaN  \n",
       "1  MARC Penn 494 - Delay  Penn Line Train 494 (7:...           NaN  \n",
       "2  MARC Penn 494 - Delay  Penn Line Train 494 (7:...           NaN  \n",
       "3  MARC Penn 492 - Delay  Penn Line Train 492 (5:...           NaN  \n",
       "4  MARC Penn 490 - Delay  Penn Line Train 490 (4:...           NaN  "
      ]
     },
     "execution_count": 9,
     "metadata": {},
     "output_type": "execute_result"
    }
   ],
   "source": [
    "big_list = pd.read_csv('https://github.com/baltimorehebbar/MTAMarylandAlerts/blob/main/big_list.csv')\n",
    "big_list.head()"
   ]
  },
  {
   "cell_type": "code",
   "execution_count": 10,
   "metadata": {},
   "outputs": [],
   "source": [
    "big_list['alert_datetime'] = pd.to_datetime(big_list['alert_datetime'])"
   ]
  },
  {
   "cell_type": "code",
   "execution_count": 11,
   "metadata": {},
   "outputs": [
    {
     "data": {
      "text/html": [
       "<div>\n",
       "<style scoped>\n",
       "    .dataframe tbody tr th:only-of-type {\n",
       "        vertical-align: middle;\n",
       "    }\n",
       "\n",
       "    .dataframe tbody tr th {\n",
       "        vertical-align: top;\n",
       "    }\n",
       "\n",
       "    .dataframe thead th {\n",
       "        text-align: right;\n",
       "    }\n",
       "</style>\n",
       "<table border=\"1\" class=\"dataframe\">\n",
       "  <thead>\n",
       "    <tr style=\"text-align: right;\">\n",
       "      <th></th>\n",
       "      <th>alert_datetime</th>\n",
       "      <th>service</th>\n",
       "      <th>comment</th>\n",
       "      <th>comment_title</th>\n",
       "    </tr>\n",
       "  </thead>\n",
       "  <tbody>\n",
       "    <tr>\n",
       "      <th>0</th>\n",
       "      <td>2023-10-28 21:00:00</td>\n",
       "      <td>LBUS</td>\n",
       "      <td>LocalLink Temporary Route Diversions Due to a ...</td>\n",
       "      <td>NaN</td>\n",
       "    </tr>\n",
       "    <tr>\n",
       "      <th>1</th>\n",
       "      <td>2023-10-28 20:39:00</td>\n",
       "      <td>MARC</td>\n",
       "      <td>MARC Penn 494 - Delay  Penn Line Train 494 (7:...</td>\n",
       "      <td>NaN</td>\n",
       "    </tr>\n",
       "    <tr>\n",
       "      <th>2</th>\n",
       "      <td>2023-10-28 19:57:00</td>\n",
       "      <td>MARC</td>\n",
       "      <td>MARC Penn 494 - Delay  Penn Line Train 494 (7:...</td>\n",
       "      <td>NaN</td>\n",
       "    </tr>\n",
       "    <tr>\n",
       "      <th>3</th>\n",
       "      <td>2023-10-28 17:54:00</td>\n",
       "      <td>MARC</td>\n",
       "      <td>MARC Penn 492 - Delay  Penn Line Train 492 (5:...</td>\n",
       "      <td>NaN</td>\n",
       "    </tr>\n",
       "    <tr>\n",
       "      <th>4</th>\n",
       "      <td>2023-10-28 16:54:00</td>\n",
       "      <td>MARC</td>\n",
       "      <td>MARC Penn 490 - Delay  Penn Line Train 490 (4:...</td>\n",
       "      <td>NaN</td>\n",
       "    </tr>\n",
       "  </tbody>\n",
       "</table>\n",
       "</div>"
      ],
      "text/plain": [
       "       alert_datetime service  \\\n",
       "0 2023-10-28 21:00:00    LBUS   \n",
       "1 2023-10-28 20:39:00    MARC   \n",
       "2 2023-10-28 19:57:00    MARC   \n",
       "3 2023-10-28 17:54:00    MARC   \n",
       "4 2023-10-28 16:54:00    MARC   \n",
       "\n",
       "                                             comment comment_title  \n",
       "0  LocalLink Temporary Route Diversions Due to a ...           NaN  \n",
       "1  MARC Penn 494 - Delay  Penn Line Train 494 (7:...           NaN  \n",
       "2  MARC Penn 494 - Delay  Penn Line Train 494 (7:...           NaN  \n",
       "3  MARC Penn 492 - Delay  Penn Line Train 492 (5:...           NaN  \n",
       "4  MARC Penn 490 - Delay  Penn Line Train 490 (4:...           NaN  "
      ]
     },
     "execution_count": 11,
     "metadata": {},
     "output_type": "execute_result"
    }
   ],
   "source": [
    "big_list = big_list.sort_values(by='alert_datetime', ascending=False)\n",
    "big_list.head()"
   ]
  },
  {
   "cell_type": "code",
   "execution_count": 12,
   "metadata": {},
   "outputs": [
    {
     "data": {
      "text/plain": [
       "array(['LBUS', 'MARC', 'CL', 'BUS', 'LR', 'METRO', 'EBUS', 'PURPLE'],\n",
       "      dtype=object)"
      ]
     },
     "execution_count": 12,
     "metadata": {},
     "output_type": "execute_result"
    }
   ],
   "source": [
    "big_list.service.unique()"
   ]
  },
  {
   "cell_type": "code",
   "execution_count": 14,
   "metadata": {},
   "outputs": [
    {
     "data": {
      "text/html": [
       "<div>\n",
       "<style scoped>\n",
       "    .dataframe tbody tr th:only-of-type {\n",
       "        vertical-align: middle;\n",
       "    }\n",
       "\n",
       "    .dataframe tbody tr th {\n",
       "        vertical-align: top;\n",
       "    }\n",
       "\n",
       "    .dataframe thead th {\n",
       "        text-align: right;\n",
       "    }\n",
       "</style>\n",
       "<table border=\"1\" class=\"dataframe\">\n",
       "  <thead>\n",
       "    <tr style=\"text-align: right;\">\n",
       "      <th></th>\n",
       "      <th>alert_datetime</th>\n",
       "      <th>comment</th>\n",
       "    </tr>\n",
       "  </thead>\n",
       "  <tbody>\n",
       "    <tr>\n",
       "      <th>64</th>\n",
       "      <td>2023-10-24 11:07:00</td>\n",
       "      <td>Light Rail Service Advisory; Updated  Light Ra...</td>\n",
       "    </tr>\n",
       "    <tr>\n",
       "      <th>70</th>\n",
       "      <td>2023-10-24 10:28:00</td>\n",
       "      <td>Light Rail Service Advisory; Updated  Light Ra...</td>\n",
       "    </tr>\n",
       "    <tr>\n",
       "      <th>72</th>\n",
       "      <td>2023-10-24 08:50:00</td>\n",
       "      <td>Light Rail Service Advisory; Updated  Light Ra...</td>\n",
       "    </tr>\n",
       "    <tr>\n",
       "      <th>73</th>\n",
       "      <td>2023-10-24 07:19:00</td>\n",
       "      <td>Light Rail Service Advisory; Updated  Main lin...</td>\n",
       "    </tr>\n",
       "    <tr>\n",
       "      <th>76</th>\n",
       "      <td>2023-10-24 06:33:00</td>\n",
       "      <td>Light Rail Service Advisory; Updated  Due to a...</td>\n",
       "    </tr>\n",
       "  </tbody>\n",
       "</table>\n",
       "</div>"
      ],
      "text/plain": [
       "        alert_datetime                                            comment\n",
       "64 2023-10-24 11:07:00  Light Rail Service Advisory; Updated  Light Ra...\n",
       "70 2023-10-24 10:28:00  Light Rail Service Advisory; Updated  Light Ra...\n",
       "72 2023-10-24 08:50:00  Light Rail Service Advisory; Updated  Light Ra...\n",
       "73 2023-10-24 07:19:00  Light Rail Service Advisory; Updated  Main lin...\n",
       "76 2023-10-24 06:33:00  Light Rail Service Advisory; Updated  Due to a..."
      ]
     },
     "execution_count": 14,
     "metadata": {},
     "output_type": "execute_result"
    }
   ],
   "source": [
    "lr = big_list[big_list['service'] == 'LR']\n",
    "del lr['comment_title'], lr['service']\n",
    "#lr.set_index('alert_datetime', inplace=True)\n",
    "lr.head()"
   ]
  },
  {
   "cell_type": "code",
   "execution_count": 15,
   "metadata": {},
   "outputs": [
    {
     "name": "stderr",
     "output_type": "stream",
     "text": [
      "C:\\Users\\sachi\\AppData\\Local\\Temp/ipykernel_77888/3776195807.py:1: SettingWithCopyWarning: \n",
      "A value is trying to be set on a copy of a slice from a DataFrame.\n",
      "Try using .loc[row_indexer,col_indexer] = value instead\n",
      "\n",
      "See the caveats in the documentation: https://pandas.pydata.org/pandas-docs/stable/user_guide/indexing.html#returning-a-view-versus-a-copy\n",
      "  lr['year_month'] = lr.alert_datetime.dt.strftime('%m-%Y')\n",
      "C:\\Users\\sachi\\AppData\\Local\\Temp/ipykernel_77888/3776195807.py:2: SettingWithCopyWarning: \n",
      "A value is trying to be set on a copy of a slice from a DataFrame.\n",
      "Try using .loc[row_indexer,col_indexer] = value instead\n",
      "\n",
      "See the caveats in the documentation: https://pandas.pydata.org/pandas-docs/stable/user_guide/indexing.html#returning-a-view-versus-a-copy\n",
      "  lr['year'] = lr.alert_datetime.dt.strftime('%Y')\n",
      "C:\\Users\\sachi\\AppData\\Local\\Temp/ipykernel_77888/3776195807.py:3: SettingWithCopyWarning: \n",
      "A value is trying to be set on a copy of a slice from a DataFrame.\n",
      "Try using .loc[row_indexer,col_indexer] = value instead\n",
      "\n",
      "See the caveats in the documentation: https://pandas.pydata.org/pandas-docs/stable/user_guide/indexing.html#returning-a-view-versus-a-copy\n",
      "  lr['date'] = lr['alert_datetime'].dt.date\n"
     ]
    },
    {
     "data": {
      "text/html": [
       "<div>\n",
       "<style scoped>\n",
       "    .dataframe tbody tr th:only-of-type {\n",
       "        vertical-align: middle;\n",
       "    }\n",
       "\n",
       "    .dataframe tbody tr th {\n",
       "        vertical-align: top;\n",
       "    }\n",
       "\n",
       "    .dataframe thead th {\n",
       "        text-align: right;\n",
       "    }\n",
       "</style>\n",
       "<table border=\"1\" class=\"dataframe\">\n",
       "  <thead>\n",
       "    <tr style=\"text-align: right;\">\n",
       "      <th></th>\n",
       "      <th>alert_datetime</th>\n",
       "      <th>comment</th>\n",
       "      <th>year_month</th>\n",
       "      <th>year</th>\n",
       "      <th>date</th>\n",
       "    </tr>\n",
       "  </thead>\n",
       "  <tbody>\n",
       "    <tr>\n",
       "      <th>64</th>\n",
       "      <td>2023-10-24 11:07:00</td>\n",
       "      <td>Light Rail Service Advisory; Updated  Light Ra...</td>\n",
       "      <td>10-2023</td>\n",
       "      <td>2023</td>\n",
       "      <td>2023-10-24</td>\n",
       "    </tr>\n",
       "    <tr>\n",
       "      <th>70</th>\n",
       "      <td>2023-10-24 10:28:00</td>\n",
       "      <td>Light Rail Service Advisory; Updated  Light Ra...</td>\n",
       "      <td>10-2023</td>\n",
       "      <td>2023</td>\n",
       "      <td>2023-10-24</td>\n",
       "    </tr>\n",
       "    <tr>\n",
       "      <th>72</th>\n",
       "      <td>2023-10-24 08:50:00</td>\n",
       "      <td>Light Rail Service Advisory; Updated  Light Ra...</td>\n",
       "      <td>10-2023</td>\n",
       "      <td>2023</td>\n",
       "      <td>2023-10-24</td>\n",
       "    </tr>\n",
       "    <tr>\n",
       "      <th>73</th>\n",
       "      <td>2023-10-24 07:19:00</td>\n",
       "      <td>Light Rail Service Advisory; Updated  Main lin...</td>\n",
       "      <td>10-2023</td>\n",
       "      <td>2023</td>\n",
       "      <td>2023-10-24</td>\n",
       "    </tr>\n",
       "    <tr>\n",
       "      <th>76</th>\n",
       "      <td>2023-10-24 06:33:00</td>\n",
       "      <td>Light Rail Service Advisory; Updated  Due to a...</td>\n",
       "      <td>10-2023</td>\n",
       "      <td>2023</td>\n",
       "      <td>2023-10-24</td>\n",
       "    </tr>\n",
       "    <tr>\n",
       "      <th>...</th>\n",
       "      <td>...</td>\n",
       "      <td>...</td>\n",
       "      <td>...</td>\n",
       "      <td>...</td>\n",
       "      <td>...</td>\n",
       "    </tr>\n",
       "    <tr>\n",
       "      <th>16482</th>\n",
       "      <td>2020-10-06 06:21:00</td>\n",
       "      <td>Maintenance has been completed and Light RailL...</td>\n",
       "      <td>10-2020</td>\n",
       "      <td>2020</td>\n",
       "      <td>2020-10-06</td>\n",
       "    </tr>\n",
       "    <tr>\n",
       "      <th>16485</th>\n",
       "      <td>2020-10-05 21:55:00</td>\n",
       "      <td>Light RailLink service between Patapsco and Ca...</td>\n",
       "      <td>10-2020</td>\n",
       "      <td>2020</td>\n",
       "      <td>2020-10-05</td>\n",
       "    </tr>\n",
       "    <tr>\n",
       "      <th>16486</th>\n",
       "      <td>2020-10-05 19:58:00</td>\n",
       "      <td>Due to police activity at Westport station, Li...</td>\n",
       "      <td>10-2020</td>\n",
       "      <td>2020</td>\n",
       "      <td>2020-10-05</td>\n",
       "    </tr>\n",
       "    <tr>\n",
       "      <th>16502</th>\n",
       "      <td>2020-10-05 05:01:00</td>\n",
       "      <td>Until Tuesday October 6, 2020 at 5:00 a.m., al...</td>\n",
       "      <td>10-2020</td>\n",
       "      <td>2020</td>\n",
       "      <td>2020-10-05</td>\n",
       "    </tr>\n",
       "    <tr>\n",
       "      <th>16503</th>\n",
       "      <td>2020-10-04 20:01:00</td>\n",
       "      <td>Beginning on Saturday October 3, 2020 at 2:00 ...</td>\n",
       "      <td>10-2020</td>\n",
       "      <td>2020</td>\n",
       "      <td>2020-10-04</td>\n",
       "    </tr>\n",
       "  </tbody>\n",
       "</table>\n",
       "<p>1848 rows × 5 columns</p>\n",
       "</div>"
      ],
      "text/plain": [
       "           alert_datetime                                            comment  \\\n",
       "64    2023-10-24 11:07:00  Light Rail Service Advisory; Updated  Light Ra...   \n",
       "70    2023-10-24 10:28:00  Light Rail Service Advisory; Updated  Light Ra...   \n",
       "72    2023-10-24 08:50:00  Light Rail Service Advisory; Updated  Light Ra...   \n",
       "73    2023-10-24 07:19:00  Light Rail Service Advisory; Updated  Main lin...   \n",
       "76    2023-10-24 06:33:00  Light Rail Service Advisory; Updated  Due to a...   \n",
       "...                   ...                                                ...   \n",
       "16482 2020-10-06 06:21:00  Maintenance has been completed and Light RailL...   \n",
       "16485 2020-10-05 21:55:00  Light RailLink service between Patapsco and Ca...   \n",
       "16486 2020-10-05 19:58:00  Due to police activity at Westport station, Li...   \n",
       "16502 2020-10-05 05:01:00  Until Tuesday October 6, 2020 at 5:00 a.m., al...   \n",
       "16503 2020-10-04 20:01:00  Beginning on Saturday October 3, 2020 at 2:00 ...   \n",
       "\n",
       "      year_month  year        date  \n",
       "64       10-2023  2023  2023-10-24  \n",
       "70       10-2023  2023  2023-10-24  \n",
       "72       10-2023  2023  2023-10-24  \n",
       "73       10-2023  2023  2023-10-24  \n",
       "76       10-2023  2023  2023-10-24  \n",
       "...          ...   ...         ...  \n",
       "16482    10-2020  2020  2020-10-06  \n",
       "16485    10-2020  2020  2020-10-05  \n",
       "16486    10-2020  2020  2020-10-05  \n",
       "16502    10-2020  2020  2020-10-05  \n",
       "16503    10-2020  2020  2020-10-04  \n",
       "\n",
       "[1848 rows x 5 columns]"
      ]
     },
     "execution_count": 15,
     "metadata": {},
     "output_type": "execute_result"
    }
   ],
   "source": [
    "lr['year_month'] = lr.alert_datetime.dt.strftime('%m-%Y')\n",
    "lr['year'] = lr.alert_datetime.dt.strftime('%Y')\n",
    "lr['date'] = lr['alert_datetime'].dt.date\n",
    "lr"
   ]
  },
  {
   "cell_type": "code",
   "execution_count": 16,
   "metadata": {},
   "outputs": [
    {
     "name": "stderr",
     "output_type": "stream",
     "text": [
      "C:\\Users\\sachi\\AppData\\Local\\Temp/ipykernel_77888/2975625651.py:1: SettingWithCopyWarning: \n",
      "A value is trying to be set on a copy of a slice from a DataFrame.\n",
      "Try using .loc[row_indexer,col_indexer] = value instead\n",
      "\n",
      "See the caveats in the documentation: https://pandas.pydata.org/pandas-docs/stable/user_guide/indexing.html#returning-a-view-versus-a-copy\n",
      "  lr['delay'] = 0\n",
      "C:\\Users\\sachi\\AppData\\Local\\Temp/ipykernel_77888/2975625651.py:2: SettingWithCopyWarning: \n",
      "A value is trying to be set on a copy of a slice from a DataFrame.\n",
      "Try using .loc[row_indexer,col_indexer] = value instead\n",
      "\n",
      "See the caveats in the documentation: https://pandas.pydata.org/pandas-docs/stable/user_guide/indexing.html#returning-a-view-versus-a-copy\n",
      "  lr['suspended'] = 0\n",
      "C:\\Users\\sachi\\AppData\\Local\\Temp/ipykernel_77888/2975625651.py:3: SettingWithCopyWarning: \n",
      "A value is trying to be set on a copy of a slice from a DataFrame.\n",
      "Try using .loc[row_indexer,col_indexer] = value instead\n",
      "\n",
      "See the caveats in the documentation: https://pandas.pydata.org/pandas-docs/stable/user_guide/indexing.html#returning-a-view-versus-a-copy\n",
      "  lr['police_activity'] = 0\n",
      "C:\\Users\\sachi\\AppData\\Local\\Temp/ipykernel_77888/2975625651.py:4: SettingWithCopyWarning: \n",
      "A value is trying to be set on a copy of a slice from a DataFrame.\n",
      "Try using .loc[row_indexer,col_indexer] = value instead\n",
      "\n",
      "See the caveats in the documentation: https://pandas.pydata.org/pandas-docs/stable/user_guide/indexing.html#returning-a-view-versus-a-copy\n",
      "  lr['disabled'] = 0\n",
      "C:\\Users\\sachi\\AppData\\Local\\Temp/ipykernel_77888/2975625651.py:5: SettingWithCopyWarning: \n",
      "A value is trying to be set on a copy of a slice from a DataFrame.\n",
      "Try using .loc[row_indexer,col_indexer] = value instead\n",
      "\n",
      "See the caveats in the documentation: https://pandas.pydata.org/pandas-docs/stable/user_guide/indexing.html#returning-a-view-versus-a-copy\n",
      "  lr['crash'] = 0\n",
      "C:\\Users\\sachi\\AppData\\Local\\Temp/ipykernel_77888/2975625651.py:6: SettingWithCopyWarning: \n",
      "A value is trying to be set on a copy of a slice from a DataFrame.\n",
      "Try using .loc[row_indexer,col_indexer] = value instead\n",
      "\n",
      "See the caveats in the documentation: https://pandas.pydata.org/pandas-docs/stable/user_guide/indexing.html#returning-a-view-versus-a-copy\n",
      "  lr['tree'] = 0\n",
      "C:\\Users\\sachi\\AppData\\Local\\Temp/ipykernel_77888/2975625651.py:7: SettingWithCopyWarning: \n",
      "A value is trying to be set on a copy of a slice from a DataFrame.\n",
      "Try using .loc[row_indexer,col_indexer] = value instead\n",
      "\n",
      "See the caveats in the documentation: https://pandas.pydata.org/pandas-docs/stable/user_guide/indexing.html#returning-a-view-versus-a-copy\n",
      "  lr['overhead_wire'] = 0\n",
      "C:\\Users\\sachi\\AppData\\Local\\Temp/ipykernel_77888/2975625651.py:8: SettingWithCopyWarning: \n",
      "A value is trying to be set on a copy of a slice from a DataFrame.\n",
      "Try using .loc[row_indexer,col_indexer] = value instead\n",
      "\n",
      "See the caveats in the documentation: https://pandas.pydata.org/pandas-docs/stable/user_guide/indexing.html#returning-a-view-versus-a-copy\n",
      "  lr['maintenance'] = 0\n",
      "C:\\Users\\sachi\\AppData\\Local\\Temp/ipykernel_77888/2975625651.py:9: SettingWithCopyWarning: \n",
      "A value is trying to be set on a copy of a slice from a DataFrame.\n",
      "Try using .loc[row_indexer,col_indexer] = value instead\n",
      "\n",
      "See the caveats in the documentation: https://pandas.pydata.org/pandas-docs/stable/user_guide/indexing.html#returning-a-view-versus-a-copy\n",
      "  lr['track'] = 0\n",
      "C:\\Users\\sachi\\AppData\\Local\\Temp/ipykernel_77888/2975625651.py:10: SettingWithCopyWarning: \n",
      "A value is trying to be set on a copy of a slice from a DataFrame.\n",
      "Try using .loc[row_indexer,col_indexer] = value instead\n",
      "\n",
      "See the caveats in the documentation: https://pandas.pydata.org/pandas-docs/stable/user_guide/indexing.html#returning-a-view-versus-a-copy\n",
      "  lr['bus bridge'] = 0\n",
      "C:\\Users\\sachi\\AppData\\Local\\Temp/ipykernel_77888/2975625651.py:11: SettingWithCopyWarning: \n",
      "A value is trying to be set on a copy of a slice from a DataFrame.\n",
      "Try using .loc[row_indexer,col_indexer] = value instead\n",
      "\n",
      "See the caveats in the documentation: https://pandas.pydata.org/pandas-docs/stable/user_guide/indexing.html#returning-a-view-versus-a-copy\n",
      "  lr['ravens'] = 0\n",
      "C:\\Users\\sachi\\AppData\\Local\\Temp/ipykernel_77888/2975625651.py:12: SettingWithCopyWarning: \n",
      "A value is trying to be set on a copy of a slice from a DataFrame.\n",
      "Try using .loc[row_indexer,col_indexer] = value instead\n",
      "\n",
      "See the caveats in the documentation: https://pandas.pydata.org/pandas-docs/stable/user_guide/indexing.html#returning-a-view-versus-a-copy\n",
      "  lr['orioles'] = 0\n",
      "C:\\Users\\sachi\\AppData\\Local\\Temp/ipykernel_77888/2975625651.py:13: SettingWithCopyWarning: \n",
      "A value is trying to be set on a copy of a slice from a DataFrame.\n",
      "Try using .loc[row_indexer,col_indexer] = value instead\n",
      "\n",
      "See the caveats in the documentation: https://pandas.pydata.org/pandas-docs/stable/user_guide/indexing.html#returning-a-view-versus-a-copy\n",
      "  lr['am_rush'] = 0\n",
      "C:\\Users\\sachi\\AppData\\Local\\Temp/ipykernel_77888/2975625651.py:14: SettingWithCopyWarning: \n",
      "A value is trying to be set on a copy of a slice from a DataFrame.\n",
      "Try using .loc[row_indexer,col_indexer] = value instead\n",
      "\n",
      "See the caveats in the documentation: https://pandas.pydata.org/pandas-docs/stable/user_guide/indexing.html#returning-a-view-versus-a-copy\n",
      "  lr['pm_rush'] = 0\n",
      "C:\\Users\\sachi\\AppData\\Local\\Temp/ipykernel_77888/2975625651.py:15: SettingWithCopyWarning: \n",
      "A value is trying to be set on a copy of a slice from a DataFrame.\n",
      "Try using .loc[row_indexer,col_indexer] = value instead\n",
      "\n",
      "See the caveats in the documentation: https://pandas.pydata.org/pandas-docs/stable/user_guide/indexing.html#returning-a-view-versus-a-copy\n",
      "  lr['impact'] = 0\n",
      "C:\\Users\\sachi\\anaconda3\\envs\\stats\\lib\\site-packages\\pandas\\core\\indexing.py:1817: SettingWithCopyWarning: \n",
      "A value is trying to be set on a copy of a slice from a DataFrame.\n",
      "Try using .loc[row_indexer,col_indexer] = value instead\n",
      "\n",
      "See the caveats in the documentation: https://pandas.pydata.org/pandas-docs/stable/user_guide/indexing.html#returning-a-view-versus-a-copy\n",
      "  self._setitem_single_column(loc, value, pi)\n"
     ]
    }
   ],
   "source": [
    "lr['delay'] = 0\n",
    "lr['suspended'] = 0\n",
    "lr['police_activity'] = 0\n",
    "lr['disabled'] = 0\n",
    "lr['crash'] = 0\n",
    "lr['tree'] = 0\n",
    "lr['overhead_wire'] = 0\n",
    "lr['maintenance'] = 0\n",
    "lr['track'] = 0\n",
    "lr['bus bridge'] = 0\n",
    "lr['ravens'] = 0\n",
    "lr['orioles'] = 0\n",
    "lr['am_rush'] = 0\n",
    "lr['pm_rush'] = 0\n",
    "lr['impact'] = 0\n",
    "\n",
    "lr.loc[lr['comment'].str.contains('delay'), 'delay']=1\n",
    "lr.loc[lr['comment'].str.contains('suspended'), 'suspended']=1\n",
    "lr.loc[lr['comment'].str.contains('police activity'), 'police_activity']=1\n",
    "lr.loc[lr['comment'].str.contains('disabled train'), 'disabled']=1\n",
    "lr.loc[lr['comment'].str.contains('crash'), 'crash']=1\n",
    "lr.loc[(lr['comment'].str.contains('tree')) & (~lr['comment'].str.contains('stree')), 'tree']=1\n",
    "lr.loc[lr['comment'].str.contains('overhead wire'), 'overhead_wire']=1\n",
    "lr.loc[lr['comment'].str.contains('maintenance'), 'maintenance']=1\n",
    "lr.loc[lr['comment'].str.contains('track'), 'track']=1\n",
    "lr.loc[lr['comment'].str.contains('bus bridge'), 'bus bridge']=1\n",
    "lr.loc[lr['comment'].str.contains('ravens'), 'ravens']=1\n",
    "lr.loc[lr['comment'].str.contains('orioles'), 'orioles']=1\n",
    "lr.loc[(lr.alert_datetime.dt.hour > 6) & (lr.alert_datetime.dt.hour < 9), 'am_rush'] =1\n",
    "lr.loc[(lr.alert_datetime.dt.hour > 15) & (lr.alert_datetime.dt.hour < 19), 'pm_rush'] =1\n",
    "lr.loc[(lr.delay ==1) | \n",
    "       (lr['suspended'] ==1) |\n",
    "       (lr['disabled'] ==1) |\n",
    "       (lr['crash'] ==1) |\n",
    "       (lr['tree'] ==1) |\n",
    "       (lr['overhead_wire'] ==1) |\n",
    "       (lr['maintenance'] ==1) |\n",
    "       (lr['track'] ==1) |\n",
    "       (lr['bus bridge'] ==1), 'impact'] =1"
   ]
  },
  {
   "cell_type": "code",
   "execution_count": 17,
   "metadata": {},
   "outputs": [
    {
     "data": {
      "text/plain": [
       "alert_datetime     datetime64[ns]\n",
       "comment                    object\n",
       "year_month                 object\n",
       "year                       object\n",
       "date                       object\n",
       "delay                       int64\n",
       "suspended                   int64\n",
       "police_activity             int64\n",
       "disabled                    int64\n",
       "crash                       int64\n",
       "tree                        int64\n",
       "overhead_wire               int64\n",
       "maintenance                 int64\n",
       "track                       int64\n",
       "bus bridge                  int64\n",
       "ravens                      int64\n",
       "orioles                     int64\n",
       "am_rush                     int64\n",
       "pm_rush                     int64\n",
       "impact                      int64\n",
       "dtype: object"
      ]
     },
     "execution_count": 17,
     "metadata": {},
     "output_type": "execute_result"
    }
   ],
   "source": [
    "lr.dtypes"
   ]
  },
  {
   "cell_type": "code",
   "execution_count": 18,
   "metadata": {},
   "outputs": [
    {
     "data": {
      "image/png": "[encoded data removed]",
      "text/plain": [
       "<Figure size 432x288 with 1 Axes>"
      ]
     },
     "metadata": {
      "needs_background": "light"
     },
     "output_type": "display_data"
    }
   ],
   "source": [
    "s = lr[lr['bus bridge']==1][['bus bridge', 'date', 'year_month', 'year']].drop_duplicates()\n",
    "s = s[s['year'] != '2020']\n",
    "s['year_month'] = pd.to_datetime(s['year_month'])\n",
    "\n",
    "s = s.groupby(['year_month'])['bus bridge'].count().reset_index(name='count')\n",
    "\n",
    "sns.lineplot(data=s, \n",
    "             x=s.year_month, \n",
    "             y=\"count\",\n",
    "             marker='o')\n",
    "plt.xticks(rotation=45)\n",
    "plt.xlabel('Month & Year', labelpad= 10, loc='center')\n",
    "plt.ylabel('Number of Days', labelpad= 10, loc='center')\n",
    "plt.title(\"Number of days with bus bridge per month\")\n",
    "plt.savefig('bus_bridge.png', bbox_inches='tight')"
   ]
  },
  {
   "cell_type": "code",
   "execution_count": 19,
   "metadata": {},
   "outputs": [
    {
     "data": {
      "image/png": "[encoded data removed]",
      "text/plain": [
       "<Figure size 432x288 with 1 Axes>"
      ]
     },
     "metadata": {
      "needs_background": "light"
     },
     "output_type": "display_data"
    }
   ],
   "source": [
    "s = lr[lr['bus bridge']==1][['bus bridge', 'date', 'year']].drop_duplicates()\n",
    "s = s[s['year'] != '2020']\n",
    "#s.to_csv('s.csv')\n",
    "#sns.lineplot(data=s, x='date', y=\"bus bridge\")\n",
    "s = s.groupby(['year'])['bus bridge'].count().reset_index(name='count')\n",
    "\n",
    "sns.barplot(data=s, \n",
    "             x=s.year, \n",
    "             y=\"count\")\n",
    "plt.xticks(rotation=45)\n",
    "plt.xlabel('Month & Year', labelpad= 10, loc='center')\n",
    "plt.ylabel('Number of Days', labelpad= 10, loc='center')\n",
    "plt.title(\"Number of days with bus bridge per year\")\n",
    "plt.savefig('bus_bridge_per_yr.jpg')"
   ]
  },
  {
   "cell_type": "code",
   "execution_count": 20,
   "metadata": {},
   "outputs": [
    {
     "data": {
      "image/png": "[encoded data removed]",
      "text/plain": [
       "<Figure size 432x288 with 1 Axes>"
      ]
     },
     "metadata": {
      "needs_background": "light"
     },
     "output_type": "display_data"
    }
   ],
   "source": [
    "s = lr[lr['disabled']==1][['disabled', 'date', 'year']].drop_duplicates()\n",
    "s = s[s['year'] != '2020']\n",
    "#s.to_csv('s.csv')\n",
    "#sns.lineplot(data=s, x='date', y=\"bus bridge\")\n",
    "s = s.groupby(['year'])['disabled'].count().reset_index(name='count')\n",
    "\n",
    "sns.barplot(data=s, \n",
    "             x=s.year, \n",
    "             y=\"count\")\n",
    "plt.xticks(rotation=45)\n",
    "plt.xlabel('Month & Year', labelpad= 10, loc='center')\n",
    "plt.ylabel('Number of Days', labelpad= 10, loc='center')\n",
    "plt.title(\"Number of days with disabled train(s)\")\n",
    "plt.savefig('disabled_train.jpg')"
   ]
  },
  {
   "cell_type": "code",
   "execution_count": 21,
   "metadata": {},
   "outputs": [
    {
     "data": {
      "image/png": "[encoded data removed]",
      "text/plain": [
       "<Figure size 432x288 with 1 Axes>"
      ]
     },
     "metadata": {
      "needs_background": "light"
     },
     "output_type": "display_data"
    }
   ],
   "source": [
    "s = lr[lr['tree']==1][['tree', 'date', 'year']].drop_duplicates()\n",
    "s = s[s['year'] != '2020']\n",
    "#s.to_csv('s.csv')\n",
    "#sns.lineplot(data=s, x='date', y=\"bus bridge\")\n",
    "s = s.groupby(['year'])['tree'].count().reset_index(name='count')\n",
    "\n",
    "sns.barplot(data=s, \n",
    "             x=s.year, \n",
    "             y=\"count\")\n",
    "plt.xticks(rotation=45)\n",
    "plt.xlabel('Year', labelpad= 10, loc='center')\n",
    "plt.ylabel('Number of Days', labelpad= 10, loc='center')\n",
    "plt.title(\"Days with service interruptions caused by downed trees\")\n",
    "plt.savefig('downed_trees.jpg')"
   ]
  },
  {
   "cell_type": "code",
   "execution_count": 22,
   "metadata": {},
   "outputs": [
    {
     "data": {
      "image/png": "[encoded data removed]",
      "text/plain": [
       "<Figure size 432x288 with 1 Axes>"
      ]
     },
     "metadata": {
      "needs_background": "light"
     },
     "output_type": "display_data"
    }
   ],
   "source": [
    "s = lr[lr['crash']==1][['crash', 'date', 'year']].drop_duplicates()\n",
    "s = s[s['year'] != '2020']\n",
    "#s.to_csv('s.csv')\n",
    "s = s.groupby(['year'])['crash'].count().reset_index(name='count')\n",
    "s.loc[len(s)] = ['2021', 0]\n",
    "s.sort_values(by='year', inplace=True)\n",
    "sns.barplot(data=s, \n",
    "             x=s.year, \n",
    "             y=\"count\")\n",
    "plt.xticks(rotation=45)\n",
    "plt.xlabel('Year', labelpad= 10, loc='center')\n",
    "plt.ylabel('Number of Days', labelpad= 10, loc='center')\n",
    "plt.title(\"Days with service interruptions caused by crash\")\n",
    "plt.savefig('car_crash.jpg')"
   ]
  },
  {
   "cell_type": "code",
   "execution_count": 23,
   "metadata": {},
   "outputs": [
    {
     "data": {
      "image/png": "[encoded data removed]",
      "text/plain": [
       "<Figure size 432x288 with 1 Axes>"
      ]
     },
     "metadata": {
      "needs_background": "light"
     },
     "output_type": "display_data"
    }
   ],
   "source": [
    "s = lr[lr['impact']==1][['impact', 'date', 'year_month', 'year']].drop_duplicates()\n",
    "s = s[s['year'] != '2020']\n",
    "#s.to_csv('s.csv')\n",
    "s['year_month'] = pd.to_datetime(s['year_month'])\n",
    "#sns.lineplot(data=s, x='date', y=\"bus bridge\")\n",
    "s = s.groupby(['year_month'])['impact'].count().reset_index(name='count')\n",
    "\n",
    "sns.lineplot(data=s, \n",
    "             x=s.year_month, \n",
    "             y=\"count\",\n",
    "            marker='o')\n",
    "plt.xticks(rotation=45)\n",
    "plt.xlabel('Month & Year', labelpad= 10, loc='center')\n",
    "plt.ylabel('Number of Days', labelpad= 10, loc='center')\n",
    "plt.title(\"Number of days with impacted service\")\n",
    "plt.savefig('delays_per_month.jpg', bbox_inches='tight')"
   ]
  },
  {
   "cell_type": "code",
   "execution_count": 24,
   "metadata": {},
   "outputs": [
    {
     "data": {
      "text/plain": [
       "16.029411764705884"
      ]
     },
     "execution_count": 24,
     "metadata": {},
     "output_type": "execute_result"
    }
   ],
   "source": [
    "s['count'].mean()"
   ]
  },
  {
   "cell_type": "code",
   "execution_count": 25,
   "metadata": {},
   "outputs": [
    {
     "data": {
      "image/png": "[encoded data removed]",
      "text/plain": [
       "<Figure size 432x288 with 1 Axes>"
      ]
     },
     "metadata": {
      "needs_background": "light"
     },
     "output_type": "display_data"
    }
   ],
   "source": [
    "s = lr[(lr['impact']==1) & ((lr['pm_rush']==1) | (lr['am_rush']==1))][['impact', 'date', 'year_month', 'year']].drop_duplicates()\n",
    "\n",
    "s = s[s['year'] != '2020']\n",
    "s['year_month'] = pd.to_datetime(s['year_month'])\n",
    "#sns.lineplot(data=s, x='date', y=\"bus bridge\")\n",
    "s = s.groupby(['year_month'])['impact'].count().reset_index(name='count')\n",
    "\n",
    "sns.lineplot(data=s, \n",
    "             x=s.year_month, \n",
    "             y=\"count\",\n",
    "            marker='o')\n",
    "plt.yticks(np.arange(0, 20, 4))\n",
    "plt.xticks(rotation=45)\n",
    "plt.xlabel('Month & Year', labelpad= 10, loc='center')\n",
    "plt.ylabel('Number of Days', labelpad= 10, loc='center')\n",
    "plt.title(\"Number of days with impacted service during rush hour in month\")\n",
    "plt.savefig('rush_hr_impact.jpg', bbox_inches='tight')"
   ]
  },
  {
   "cell_type": "code",
   "execution_count": 26,
   "metadata": {},
   "outputs": [
    {
     "data": {
      "text/plain": [
       "6.352941176470588"
      ]
     },
     "execution_count": 26,
     "metadata": {},
     "output_type": "execute_result"
    }
   ],
   "source": [
    "s['count'].mean()"
   ]
  }
 ],
 "metadata": {
  "kernelspec": {
   "display_name": "Python 3 (ipykernel)",
   "language": "python",
   "name": "python3"
  },
  "language_info": {
   "codemirror_mode": {
    "name": "ipython",
    "version": 3
   },
   "file_extension": ".py",
   "mimetype": "text/x-python",
   "name": "python",
   "nbconvert_exporter": "python",
   "pygments_lexer": "ipython3",
   "version": "3.9.7"
  }
 },
 "nbformat": 4,
 "nbformat_minor": 4
}
